{
 "metadata": {
  "name": ""
 },
 "nbformat": 3,
 "nbformat_minor": 0,
 "worksheets": [
  {
   "cells": [
    {
     "cell_type": "heading",
     "level": 1,
     "metadata": {},
     "source": [
      "Synfit"
     ]
    },
    {
     "cell_type": "markdown",
     "metadata": {},
     "source": [
      "In this notebook I will experiment the possibility of implementing a generic `synfit` to `S4`. `Synfit` is a code developed by Dr. Ivan Hubeny that runs `synplot` on a loop minimize de $\\chi^2$ between the sythetic spectrum and the observed spectrum. At this time, `synfit` find the best fit for the following parameters: effective temperature (T$_{eff}$), gravity surface ($\\log g$), projected rotational velocity ($v\\sin i$) and scale.\n",
      "\n",
      "There is two problem that I wast to solve here:\n",
      "\n",
      "1. Degeneracy: This is a problem. At some times there are more than one set of parameters that visually matches the observed spectral line. So, what is the best sete of parameter? With $\\chi^2$ minimization we will have a one-t-one match.\n",
      "\n",
      "2. Time: When we do a fit visually we will have a match. But what if you improved your atmospherical or atomic model? We would have to fit the line again. With the methodology coded, we would have only to run it again."
     ]
    },
    {
     "cell_type": "code",
     "collapsed": false,
     "input": [],
     "language": "python",
     "metadata": {},
     "outputs": []
    }
   ],
   "metadata": {}
  }
 ]
}