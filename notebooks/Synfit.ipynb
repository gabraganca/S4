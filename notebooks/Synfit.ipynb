{
 "metadata": {
  "name": ""
 },
 "nbformat": 3,
 "nbformat_minor": 0,
 "worksheets": [
  {
   "cells": [
    {
     "cell_type": "heading",
     "level": 1,
     "metadata": {},
     "source": [
      "Synfit"
     ]
    },
    {
     "cell_type": "markdown",
     "metadata": {},
     "source": [
      "In this notebook I will experiment the possibility of implementing a generic `synfit` to `S4`. `Synfit` is a code developed by Dr. Ivan Hubeny that runs `synplot` on a loop to minimize the $\\chi^2$ between the synthetic spectrum and the observed spectrum. At this time, `synfit` finds the best fit for the following parameters: effective temperature (T$_{eff}$), gravity surface ($\\log g$), projected rotational velocity ($v\\sin i$) and scale factor.\n",
      "\n",
      "There is two problem that I wast to solve here:\n",
      "\n",
      "1. Degeneracy: This is a problem. At some times there are more than one set of parameters that visually matches the observed spectral line. So, what is the best set of parameter? With $\\chi^2$ minimization we will have a one-to-one match.\n",
      "\n",
      "2. Time: When we do a fit visually we will have a match. But what if you improved your atmospherical or atomic model? We would have to fit the line again. With the methodology coded, we would have only to run it again."
     ]
    },
    {
     "cell_type": "heading",
     "level": 2,
     "metadata": {},
     "source": [
      "The Beginning"
     ]
    },
    {
     "cell_type": "markdown",
     "metadata": {},
     "source": [
      "I want that the user can choose any number of parameters for the loop. The user will have to set the following arguments: \n",
      "\n",
      "1. The parameter for the loop,\n",
      "2. The minimum value,\n",
      "3. The maximum value,\n",
      "4. And the step.\n",
      "\n",
      "And for that we will have to use `*args`, and break it:"
     ]
    },
    {
     "cell_type": "code",
     "collapsed": false,
     "input": [
      "import numpy as np\n",
      "import re\n",
      "\n",
      "def break_args(*args):\n",
      "    \"\"\"\n",
      "    Break *args* and return a dictionary with parameters as keys and \n",
      "    iterator vector as values. \n",
      "    \n",
      "    Parameters\n",
      "    ----------\n",
      "    \n",
      "    parameter: str;\n",
      "        The parameter in which will be looped.\n",
      "        \n",
      "    min_value: float, int, str;\n",
      "        Minimum value.\n",
      "    \n",
      "    max_value: float, int, str;\n",
      "        Maximum value.\n",
      "        \n",
      "    step: float, int, str;\n",
      "        Step for each loop.\n",
      "        \n",
      "    Return\n",
      "    ------\n",
      "    \n",
      "    dic: dict;\n",
      "        Dictionary with parameter as key and a vector of each value\n",
      "        of the loop as the dictionary value.    \n",
      "    \n",
      "    \n",
      "    *args* is a variable length argument,\n",
      "    allowing for multiple sets of parameters, inferior limit, superior \n",
      "    limit and step. For example, to return a dictionary with parameter\n",
      "    *teff*, minimum value fo 15000 K, maximum value of 20000 K and \n",
      "    1000K as step::\n",
      "\n",
      "      break_args('teff', 15000, 20000, 1000)\n",
      "\n",
      "    An arbitrary number of *parameters*, *max_value*, *min_value* and \n",
      "    *step* groups can be specified::\n",
      "\n",
      "      break_args(param1, min_value1, max_value1, step1, param2, \n",
      "                 min_value2, max_value2)\n",
      "                 \n",
      "    In case of abundance, only supports one chemical element.\n",
      "    \"\"\"\n",
      "    \n",
      "    dic = {}\n",
      "       \n",
      "    if len(args) < 4:\n",
      "        raise TypeError, 'It should be at least 4 input parameters.'\n",
      "    else:\n",
      "        for i in range(len(args)/4):\n",
      "            # Support for abundance iteration\n",
      "            if args[4*i] == 'abund':\n",
      "                ptrn = r'(\\d+)[,\\s]+\\1[,\\s]+(\\d+\\.\\d+|\\d+)'\n",
      "                #check args\n",
      "                for j in args[4*i+1:4*i+3]:\n",
      "                    if not re.search(ptrn, j):\n",
      "                        raise TypeError, 'Abundance %s has the wrong format' % j\n",
      "                # Get min, max and step        \n",
      "                atomic_number = re.findall(ptrn, args[4*i+1])[0][0]\n",
      "                min_value = float(re.findall(ptrn, args[4*i+1])[0][-1])\n",
      "                max_value = float(re.findall(ptrn, args[4*i+2])[0][-1])\n",
      "                \n",
      "            else: # all other cases\n",
      "                min_value = float(args[4*i+1])\n",
      "                max_value = float(args[4*i+2])\n",
      "                \n",
      "            step = float(args[4*i+3])\n",
      "            n_values = np.rint((max_value - min_value)/step + 1)\n",
      "            if args[4*i] == 'abund':\n",
      "                vector = ['[{}, {}, {:.2f}]'.format(atomic_number, atomic_number, val)\n",
      "                          for val in np.linspace(min_value, max_value, n_values)]\n",
      "            else:\n",
      "                vector = np.linspace(min_value, max_value, n_values)\n",
      "            \n",
      "            dic[args[4*i]] = vector\n",
      "                \n",
      "    return dic    "
     ],
     "language": "python",
     "metadata": {},
     "outputs": [],
     "prompt_number": 1
    },
    {
     "cell_type": "code",
     "collapsed": false,
     "input": [
      "print break_args('teff', 15000, 20000, 2500, 'vrot', 0, 10, 2, \n",
      "                    'abund', '[2,2,10.9]', '[2,2,11]', 0.02)    \n",
      "print '####'\n",
      "print break_args('vrot', 10, 14, 2, 'vmac_rt', 0, 10, 5, 'teff', 15000, 20000, 2500)"
     ],
     "language": "python",
     "metadata": {},
     "outputs": [
      {
       "output_type": "stream",
       "stream": "stdout",
       "text": [
        "{'abund': ['[2, 2, 10.90]', '[2, 2, 10.92]', '[2, 2, 10.94]', '[2, 2, 10.96]', '[2, 2, 10.98]', '[2, 2, 11.00]'], 'teff': array([ 15000.,  17500.,  20000.]), 'vrot': array([  0.,   2.,   4.,   6.,   8.,  10.])}\n",
        "####\n",
        "{'teff': array([ 15000.,  17500.,  20000.]), 'vrot': array([ 10.,  12.,  14.]), 'vmac_rt': array([  0.,   5.,  10.])}\n"
       ]
      }
     ],
     "prompt_number": 2
    },
    {
     "cell_type": "markdown",
     "metadata": {},
     "source": [
      "Now that we have the paramaters and vectors for the iteraction we have to face another problem. Since the number of parameters is unknown, we cannot have a unknown number of `for` loops. One soulution would be to have just one `for` loop iterating in just one vector that contain all vectors."
     ]
    },
    {
     "cell_type": "code",
     "collapsed": false,
     "input": [
      "from itertools import product \n",
      "\n",
      "def iterator(*args):\n",
      "    \"\"\"Create the iterator vector.\"\"\"\n",
      "    \n",
      "    if len(args) == 1:\n",
      "        return list(*args)\n",
      "    else:\n",
      "        return list(product(*args))"
     ],
     "language": "python",
     "metadata": {},
     "outputs": [],
     "prompt_number": 3
    },
    {
     "cell_type": "markdown",
     "metadata": {},
     "source": [
      "For example:"
     ]
    },
    {
     "cell_type": "code",
     "collapsed": false,
     "input": [
      "params = break_args('vrot', 10, 12, 2, 'vmac_rt', 0, 10, 5, 'teff', 15000, 16000, 1000)\n",
      "iterator(*params.values())"
     ],
     "language": "python",
     "metadata": {},
     "outputs": [
      {
       "metadata": {},
       "output_type": "pyout",
       "prompt_number": 4,
       "text": [
        "[(15000.0, 10.0, 0.0),\n",
        " (15000.0, 10.0, 5.0),\n",
        " (15000.0, 10.0, 10.0),\n",
        " (15000.0, 12.0, 0.0),\n",
        " (15000.0, 12.0, 5.0),\n",
        " (15000.0, 12.0, 10.0),\n",
        " (16000.0, 10.0, 0.0),\n",
        " (16000.0, 10.0, 5.0),\n",
        " (16000.0, 10.0, 10.0),\n",
        " (16000.0, 12.0, 0.0),\n",
        " (16000.0, 12.0, 5.0),\n",
        " (16000.0, 12.0, 10.0)]"
       ]
      }
     ],
     "prompt_number": 4
    },
    {
     "cell_type": "heading",
     "level": 2,
     "metadata": {},
     "source": [
      "Some problems on the road..."
     ]
    },
    {
     "cell_type": "markdown",
     "metadata": {},
     "source": [
      "Looking ahead, we will have to interpolate between synthetic and observed spectra. We have to check if the interpolation from `IDL` is similar to Python's. The input order is different. the x-coordinates of the interpolated values comes first.\n",
      "\n",
      "We can play a little and do some tests. Let's try first with python."
     ]
    },
    {
     "cell_type": "code",
     "collapsed": false,
     "input": [
      "import matplotlib.pyplot as plt\n",
      "%matplotlib inline\n",
      "\n",
      "xp = np.linspace(0, 100, 51)\n",
      "yp = xp**2\n",
      "\n",
      "x = np.linspace(0, 100, 101)\n",
      "\n",
      "y = np.interp(x, xp, yp)\n",
      "\n",
      "plt.plot(xp, yp, 'b-', x, y, 'r--')\n",
      "plt.show()"
     ],
     "language": "python",
     "metadata": {},
     "outputs": [
      {
       "metadata": {},
       "output_type": "display_data",
       "png": "[encoded data removed]",
       "text": [
        "<matplotlib.figure.Figure at 0x40b3590>"
       ]
      }
     ],
     "prompt_number": 5
    },
    {
     "cell_type": "markdown",
     "metadata": {},
     "source": [
      "We can write it to load with idl"
     ]
    },
    {
     "cell_type": "code",
     "collapsed": false,
     "input": [
      "np.savetxt('xp.dat', xp)\n",
      "np.savetxt('yp.dat', yp)\n",
      "np.savetxt('x.dat', x)"
     ],
     "language": "python",
     "metadata": {},
     "outputs": [],
     "prompt_number": 6
    },
    {
     "cell_type": "markdown",
     "metadata": {},
     "source": [
      "And we can write a IDL code to interpolate it."
     ]
    },
    {
     "cell_type": "code",
     "collapsed": false,
     "input": [
      "idl_pro = open('interpol_test.pro', 'w')\n",
      "idl_pro.write(\"pro interpol_test \\n\"\n",
      "              \"openr,1,'xp.dat'\\n\" \n",
      "              \"openr,2,'yp.dat'\\n\"\n",
      "              \"openr,3,'x.dat'\\n\"\n",
      "              \"i=0L \\n\"\n",
      "              \"xp = fltarr(200) \\n\"\n",
      "              \"yp = xp \\n\"\n",
      "              \"x = xp \\n\"\n",
      "              \"while not eof(1) do begin \\n\"\n",
      "              \"  readf,1,xp0 \\n\"\n",
      "              \"  xp(i)=xp0 \\n\"\n",
      "              \"  readf,2,yp0 \\n\"\n",
      "              \"  yp(i)=yp0 \\n\"         \n",
      "              \"  i=i+1L \\n\"\n",
      "              \"endwhile \\n\"\n",
      "              \"nobs=i-1L \\n\"\n",
      "              \"xp=xp(0:nobs) \\n\"\n",
      "              \"yp=yp(0:nobs) \\n\"\n",
      "              \"i=0L \\n\"\n",
      "              \"while not eof(3) do begin \\n\"\n",
      "              \"  readf,3,x0 \\n\"\n",
      "              \"  x(i)=x0 \\n\"              \n",
      "              \"  i=i+1L \\n\"   \n",
      "              \"endwhile \\n\"\n",
      "              \"nobs=i-1L \\n\"\n",
      "              \"x=x(0:nobs) \\n\"\n",
      "              \"close,1 \\n\"\n",
      "              \"close,2 \\n\"\n",
      "              \"close,3 \\n\"\n",
      "              \"y=interpol(yp,xp,x) \\n\"\n",
      "              \"openw,1,'y.dat' \\n\"\n",
      "              \"printf,1,y \\n\"\n",
      "              \"close,1\\n\"\n",
      "              \"end\")\n",
      "              \n",
      "!idl -e \"interpol_test\""
     ],
     "language": "python",
     "metadata": {},
     "outputs": [
      {
       "output_type": "stream",
       "stream": "stdout",
       "text": [
        "IDL Version 7.1 (linux x86_64 m64). (c) 2009, ITT Visual Information Solutions\r\n",
        "Installation number: 20111111.\r\n",
        "Licensed for use by: TEAM TBE\r\n",
        "\r\n",
        "% Compiled module: INTERPOL_TEST.\r\n",
        "% Attempt to call undefined procedure/function: 'INTERPOL_TEST'.\r\n",
        "% Execution halted at: $MAIN$          \r\n"
       ]
      }
     ],
     "prompt_number": 7
    },
    {
     "cell_type": "markdown",
     "metadata": {},
     "source": [
      "we can load the IDL result an test it."
     ]
    },
    {
     "cell_type": "code",
     "collapsed": false,
     "input": [
      "y_idl = np.array(open('y.dat').read().split()).astype(float)\n",
      "\n",
      "np.allclose(y, y_idl)"
     ],
     "language": "python",
     "metadata": {},
     "outputs": [
      {
       "metadata": {},
       "output_type": "pyout",
       "prompt_number": 8,
       "text": [
        "True"
       ]
      }
     ],
     "prompt_number": 8
    },
    {
     "cell_type": "markdown",
     "metadata": {},
     "source": [
      "So both interpolations are the same, as expected."
     ]
    },
    {
     "cell_type": "markdown",
     "metadata": {},
     "source": [
      "Another issue is the $\\chi^2$ calculus. \n",
      "Looking [here](http://vassarstats.net/textbook/ch8pt1.html) we can see that the $\\chi^2$ equation is:\n",
      "\n",
      "$\\frac{Observed\\quad Frequency-Expected\\quad Frequency}{Expected\\quad Frequency}$\n",
      "\n",
      "On `synfit`, the equation is the following:\n",
      "\n",
      "$\\chi^2 = \\sum (\\frac{(F^{obs}_{\\lambda} - F^{syn}_{\\lambda})^2}{F^{syn}_{\\lambda}} * W_{\\lambda})$,\n",
      "\n",
      "where $F_{obs}$, $F_{syn}$ and $W$ are the observed flux, the synthetic flux and the weights. The weights are binary values that just indicate if, for a certain wavelength, that value contributes tyhe final results. In practice, it is the windows/mask array.\n",
      "\n",
      "Now, I think that this is a little displaced. On a statistical test we would have just one model (the expected value) and several observation. Here we have the opposite: just one observation and several expected values (the synthetic spectra). So, when we compare the $\\chi^2$ values between different comparison we would have different denominators. Would this bring some error on the final estimation?\n",
      "\n",
      "Maybe we could change the order:\n",
      "\n",
      "$\\chi^2 = \\sum (\\frac{(F^{syn}_{\\lambda} - F^{obs}_{\\lambda})^2}{F^{obs}_{\\lambda}} * W_{\\lambda})$.\n",
      "\n",
      "We will also experiment the Euclidian distance.\n",
      "\n",
      "Let's see how that goes."
     ]
    },
    {
     "cell_type": "markdown",
     "metadata": {},
     "source": [
      "With real data we have an observed spectrum that has some unknown noise and a set of synthetic spectra without noise but with varying parameters.\n",
      "\n",
      "For now, let's ignore the noise. We can use as the observed spectrum a gassuian profile, but we will subtract one by this gaussina profile to simulate a spectral line. \n",
      "\n",
      "The synthetic spectrum will be the same, but with a gaussian profile with different standard deviation. This will simulate the broadening of the line."
     ]
    },
    {
     "cell_type": "code",
     "collapsed": false,
     "input": [
      "import scipy.stats as st\n",
      "\n",
      "x_vector = np.linspace(1, 20, 100)\n",
      "\n",
      "# Let's simulate a gaussian spectral lines\n",
      "gaussian_line = lambda x, std: 1 - st.norm.pdf(x, 10, std)\n",
      "\n",
      "# Observed spectrum\n",
      "obs = gaussian_line(x_vector, 1.5)\n",
      "\n",
      "# Any synthetic spectrum\n",
      "syn = gaussian_line(x_vector, 3)\n",
      "\n",
      "plt.plot(x_vector, syn, 'b-', label='Synthetic')\n",
      "plt.plot(x_vector, obs, 'ro', label='Observation')\n",
      "_ = plt.legend(loc='lower right')"
     ],
     "language": "python",
     "metadata": {},
     "outputs": [
      {
       "metadata": {},
       "output_type": "display_data",
       "png": "[encoded data removed]",
       "text": [
        "<matplotlib.figure.Figure at 0x4190150>"
       ]
      }
     ],
     "prompt_number": 9
    },
    {
     "cell_type": "code",
     "collapsed": false,
     "input": [
      "#Synfit chisquare\n",
      "chisquare_synfit = lambda fobs, fexp: np.sum((fobs-fexp)**2/fexp)\n",
      "\n",
      "# Proposed chisquare calculation\n",
      "chisquare_proposed = lambda fobs, fexp: np.sum((fexp-fobs)**2/fobs)\n",
      "\n",
      "# Euclidian distance\n",
      "euc_dist = lambda fobs, fexp: np.linalg.norm(fobs-fexp)\n",
      "\n",
      "print 'The synfit chisquare is ', chisquare_synfit(obs, syn)\n",
      "print 'The proposed chisquare is ', chisquare_proposed(obs, syn)\n",
      "print 'The scipy chisquare is ', st.chisquare(obs, syn)[0]\n",
      "print 'The euclidian distance is', euc_dist(obs, syn)"
     ],
     "language": "python",
     "metadata": {},
     "outputs": [
      {
       "output_type": "stream",
       "stream": "stdout",
       "text": [
        "The synfit chisquare is  0.259495087742\n",
        "The proposed chisquare is  0.286139778181\n",
        "The scipy chisquare is  0.259495087742\n",
        "The euclidian distance is 0.47995908099\n"
       ]
      }
     ],
     "prompt_number": 10
    },
    {
     "cell_type": "markdown",
     "metadata": {},
     "source": [
      "It seems that the `synfit` equation coincides with the `scipy` one, and the result for the proposed one is lower than both."
     ]
    },
    {
     "cell_type": "markdown",
     "metadata": {},
     "source": [
      "But what we really want is to minimize the $\\chi^2$ on a loop for $N$ iteration. "
     ]
    },
    {
     "cell_type": "code",
     "collapsed": false,
     "input": [
      "synfit_chi = []\n",
      "proposed_chi = []\n",
      "scipy_chi = []\n",
      "euc_dist_vector = []\n",
      "\n",
      "\n",
      "#standard deviation set\n",
      "std_set = np.arange(0.5, 5, 0.5)\n",
      "\n",
      "for std in std_set:\n",
      "    syn = gaussian_line(x_vector, std)\n",
      "    \n",
      "    synfit_chi.append(chisquare_synfit(obs, syn))\n",
      "    proposed_chi.append(chisquare_proposed(obs, syn))\n",
      "    scipy_chi.append(st.chisquare(obs, syn)[0])\n",
      "    euc_dist_vector.append(euc_dist(obs, syn))\n",
      "    \n",
      "\n",
      "# Let's plot each fit\n",
      "plt.plot(std_set, synfit_chi, 'b^-', label='Synfit', alpha=0.7)\n",
      "plt.plot(std_set, proposed_chi, 'r-', label='Proposed', alpha=0.7)\n",
      "plt.plot(std_set, scipy_chi, 'go-', label='Scipy', alpha=0.7)\n",
      "plt.plot(std_set, euc_dist_vector, 'ko-', label='Euclidian Distance', alpha=0.7)\n",
      "plt.xlabel('Standard deviation values')\n",
      "plt.ylabel(r'$\\chi^2$')\n",
      "_ = plt.legend()"
     ],
     "language": "python",
     "metadata": {},
     "outputs": [
      {
       "metadata": {},
       "output_type": "display_data",
       "png": "[encoded data removed]",
       "text": [
        "<matplotlib.figure.Figure at 0x486b990>"
       ]
      }
     ],
     "prompt_number": 11
    },
    {
     "cell_type": "markdown",
     "metadata": {},
     "source": [
      "As expected the values for the Synfit and the Scipy are overplotted. The proposed one have lower values and less variation than the other two, but not less than the Euclidian distance."
     ]
    },
    {
     "cell_type": "code",
     "collapsed": false,
     "input": [
      "print 'The chi**2 standard deviation for each equation is:'\n",
      "print 'Synfit: ', np.std(synfit_chi)\n",
      "print 'Proposed: ', np.std(proposed_chi)\n",
      "print 'Scipy: ', np.std(scipy_chi)\n",
      "print 'Euclidian Distance: ', np.std(euc_dist_vector)"
     ],
     "language": "python",
     "metadata": {},
     "outputs": [
      {
       "output_type": "stream",
       "stream": "stdout",
       "text": [
        "The chi**2 standard deviation for each equation is:\n",
        "Synfit:  1.21870938371\n",
        "Proposed:  0.482048029297\n",
        "Scipy:  1.21870938371\n",
        "Euclidian Distance:  0.297681895616\n"
       ]
      }
     ],
     "prompt_number": 12
    },
    {
     "cell_type": "markdown",
     "metadata": {},
     "source": [
      "Let's see if the minimum are the same for the three."
     ]
    },
    {
     "cell_type": "code",
     "collapsed": false,
     "input": [
      "print 'The best polynomial degree found by '\n",
      "print 'minimizing chi**2 for each one equation is:'\n",
      "print 'Synfit: ', std_set[np.argmin(synfit_chi)]\n",
      "print 'Proposed: ', std_set[np.argmin(proposed_chi)]\n",
      "print 'Scipy: ', std_set[np.argmin(scipy_chi)]\n",
      "print 'Euclidian Distance: ', std_set[np.argmin(euc_dist_vector)]"
     ],
     "language": "python",
     "metadata": {},
     "outputs": [
      {
       "output_type": "stream",
       "stream": "stdout",
       "text": [
        "The best polynomial degree found by \n",
        "minimizing chi**2 for each one equation is:\n",
        "Synfit:  1.5\n",
        "Proposed:  1.5\n",
        "Scipy:  1.5\n",
        "Euclidian Distance:  1.5\n"
       ]
      }
     ],
     "prompt_number": 13
    },
    {
     "cell_type": "markdown",
     "metadata": {},
     "source": [
      "It seems that for this case they all find the correct value.\n",
      "\n",
      "At this point, it seems that no matter which method I use."
     ]
    },
    {
     "cell_type": "heading",
     "level": 3,
     "metadata": {},
     "source": [
      "So now the *Grand Finale*."
     ]
    },
    {
     "cell_type": "markdown",
     "metadata": {},
     "source": [
      "With that, we can begin sketching a `synfit`."
     ]
    },
    {
     "cell_type": "code",
     "collapsed": false,
     "input": [
      "import s4\n",
      "\n",
      "def synfit_sketch(*args, **kwargs):\n",
      "    \"\"\"\n",
      "    Fit a spectral line by iterating on user defined parameter \n",
      "    an returns the best fit by minimizing the $\\chi^2$ of the \n",
      "    synthetic spectrum and the observed spectrum.\n",
      "    \n",
      "    Parameters\n",
      "    ----------\n",
      "    \n",
      "    synplot_path: str (optional);\n",
      "        Path to synplot and synspec. \n",
      "        If not set, it wil use the `S4` default.\n",
      "        \n",
      "    args: float, int, str;\n",
      "        Parameter to be fitted:\n",
      "        \n",
      "        parameter: str;\n",
      "            The parameter in which will be looped.\n",
      "            \n",
      "        min_value: float, int, str;\n",
      "            Minimum value.\n",
      "        \n",
      "        max_value: float, int, str;\n",
      "            Maximum value.\n",
      "            \n",
      "        step: float, int, str;\n",
      "            Step for each loop.\n",
      "            \n",
      "    kwargs: float, int, str;\n",
      "        Any Synplot parameters, including `teff` and `logg`, \n",
      "        `synplot_path`, `idl`, `noplot`\n",
      "        \n",
      "    \"\"\"\n",
      "    \n",
      "    # Check if there is a an observed spectrum.\n",
      "    # If not quit.\n",
      "    if 'observ' not in kwargs:\n",
      "        raise IOError, 'There is not any observed spectrum.'\n",
      "    \n",
      "    #Prepare kwargs\n",
      "    if 'synplot_path' in kwargs:\n",
      "        synplot_path = kwargs.pop('synplot_path')\n",
      "    else:\n",
      "        synplot_path = None\n",
      "        \n",
      "    if 'idl' in kwargs:\n",
      "        idl = kwargs.pop('idl')\n",
      "    else:\n",
      "        idl = True\n",
      "        \n",
      "    if 'noplot' in kwargs:\n",
      "        noplot = True\n",
      "        del kwargs['noplot']\n",
      "    else:\n",
      "        noplot = False\n",
      "    \n",
      "    #Obtain the parameters and vectors for the loop.\n",
      "    fit_params = break_args(*args)\n",
      "    \n",
      "    #Obtain the number of varying params\n",
      "    n_params = len(fit_params)\n",
      "    \n",
      "    # Obtain teff and logg if set on kwargs\n",
      "    if 'teff' in kwargs:\n",
      "        teff = kwargs.pop('teff')\n",
      "        \n",
      "    if 'logg' in kwargs:\n",
      "        logg = kwargs.pop('logg')\n",
      "    \n",
      "    # Create the list to iterate\n",
      "    iterate_list = iterator(*fit_params.values())\n",
      "    \n",
      "    # array to store the values of each parameter an the chisquare\n",
      "    mdtype = []\n",
      "    for key, value in fit_params.iteritems():\n",
      "        if type(value[0]) is type(''):\n",
      "            mdtype.append((key, 'S14'))\n",
      "        else:\n",
      "            mdtype.append((key, type(value[0])))\n",
      "    mdtype.append(('chisquare',float))\n",
      "   \n",
      "    shape = np.shape(iterate_list)\n",
      "\n",
      "    store_values = np.ones([shape[0], 1], dtype=mdtype)\n",
      "      \n",
      "    # Loop it!\n",
      "    for n, it in enumerate(iterate_list):\n",
      "\n",
      "        if n_params == 1:\n",
      "            # this case correspond when it is fitting only one parameter\n",
      "            syn_params = {fit_params.keys()[0]:it}\n",
      "        else:\n",
      "            syn_params = {key:val for key, val in zip(fit_params, it)}\n",
      "            \n",
      "        #make plot title before removing teff and logg\n",
      "        plot_title = ', '.join(['{}={}'.format(key, val) \n",
      "                                 for key, val in syn_params.iteritems()])\n",
      "        \n",
      "        # Check if teff and logg were selected to be fitted.\n",
      "        # If yes, set a variable to them.\n",
      "        if 'teff' in syn_params:\n",
      "            teff = syn_params.pop('teff')\n",
      "            \n",
      "        if 'logg' in syn_params:\n",
      "            logg = syn_params.pop('logg')\n",
      "                      \n",
      "        # Set parameters for synplot\n",
      "        synplot_params = kwargs.copy()\n",
      "        synplot_params.update(syn_params)\n",
      "            \n",
      "        # Synthesize spectrum    \n",
      "        syn = s4.synthesis.Synplot(teff, logg, synplot_path, idl,  **synplot_params)\n",
      "\n",
      "        syn.run()\n",
      "        \n",
      "        if not noplot:\n",
      "            syn.plot(title=plot_title)\n",
      "            \n",
      "\n",
      "        # Apply scale and radial velocity if needed\n",
      "        if 'scale' in syn.parameters:\n",
      "            syn.apply_scale()\n",
      "            \n",
      "        if 'rv' in syn.parameters:\n",
      "            syn.observation[:, 0] *= s4.spectools.rvcorr(syn.parameters['rv'])\n",
      "            \n",
      "        #Do an interpolation\n",
      "\n",
      "        flm = np.interp(syn.observation[:,0], syn.spectrum[:, 0], \n",
      "                        syn.spectrum[:, 1])#/max(syn.observation[:,1])\n",
      "        \n",
      "        #Some kind of normalization on the observed flux?\n",
      "        fobm = syn.observation[:,1]#/max(syn.observation[:,1])\n",
      "         \n",
      "        # Calculate the chi**2\n",
      "        \n",
      "        chisq = sum((fobm - flm)**2/flm)# * weights)\n",
      "        #chisq = chisq * max(fobs)                 #????            \n",
      "\n",
      "        # store the values of the parameters\n",
      "        if n_params == 1: \n",
      "            store_values[fit_params.keys()[0]][n] = it\n",
      "        else:    \n",
      "            for j, v in enumerate(fit_params):\n",
      "                store_values[v][n] = it[j]\n",
      "        store_values['chisquare'][n] = chisq\n",
      "\n",
      "    # print the best result\n",
      "    print 'Best fit:'\n",
      "    best_fit_vector = store_values[np.argmin(store_values['chisquare'])]\n",
      "    best_fit_string = ''\n",
      "    for key in fit_params.keys():\n",
      "        best_fit_string += '{} = {}, '.format(key, best_fit_vector[key][0])\n",
      "    best_fit_string += 'chi^2 = {:.6f}.'.format(best_fit_vector['chisquare'][0])    \n",
      "    print best_fit_string    "
     ],
     "language": "python",
     "metadata": {},
     "outputs": [],
     "prompt_number": 185
    },
    {
     "cell_type": "markdown",
     "metadata": {},
     "source": [
      "Let's test our sketch. We can simulate a spectral line and then save it."
     ]
    },
    {
     "cell_type": "code",
     "collapsed": false,
     "input": [
      "syn = s4.synthesis.Synplot(20000, 4, wstart=4460, wend=4480, relative=1, vrot=16, \n",
      "                           abund='[2, 2, 10.96]', vmac_rt = 5)\n",
      "                           \n",
      "syn.savetxt('test_spectrum.dat')                           "
     ],
     "language": "python",
     "metadata": {},
     "outputs": [],
     "prompt_number": 186
    },
    {
     "cell_type": "markdown",
     "metadata": {},
     "source": [
      "Let's try with the test spectrum that we just made."
     ]
    },
    {
     "cell_type": "code",
     "collapsed": false,
     "input": [
      "synfit_sketch('vrot', 10, 20, 2,\n",
      "              teff=20000, logg=4, wstart=4460, wend=4480, relative=1, noplot=True,\n",
      "              vmac_rt=5, abund='[2, 2, 10.96]', observ='test_spectrum.dat')"
     ],
     "language": "python",
     "metadata": {},
     "outputs": [
      {
       "output_type": "stream",
       "stream": "stdout",
       "text": [
        "Best fit:\n",
        "vrot = 16.0, chi^2 = 0.000000.\n"
       ]
      }
     ],
     "prompt_number": 187
    },
    {
     "cell_type": "code",
     "collapsed": false,
     "input": [
      "synfit_sketch('vrot', 10, 20, 2, 'vmac_rt', 0, 10, 5,\n",
      "              teff =20000, logg=4, wstart=4460, wend=4480, relative=1, noplot=True,\n",
      "              abund='[2, 2, 10.96]', observ='test_spectrum.dat')"
     ],
     "language": "python",
     "metadata": {},
     "outputs": [
      {
       "output_type": "stream",
       "stream": "stdout",
       "text": [
        "Best fit:\n",
        "vrot = 16.0, vmac_rt = 5.0, chi^2 = 0.000000.\n"
       ]
      }
     ],
     "prompt_number": 117
    },
    {
     "cell_type": "code",
     "collapsed": false,
     "input": [
      "synfit_sketch('vrot', 10, 20, 2, 'vmac_rt', 0, 10, 5, 'teff', 19000, 22000, 1000,\n",
      "              logg=4, wstart=4460, wend=4480, relative=1, noplot=True,\n",
      "              abund='[2, 2, 10.96]', observ='test_spectrum.dat')"
     ],
     "language": "python",
     "metadata": {},
     "outputs": [
      {
       "output_type": "stream",
       "stream": "stdout",
       "text": [
        "Best fit:\n",
        "teff = 20000.0, vrot = 16.0, vmac_rt = 5.0, chi^2 = 0.000000.\n"
       ]
      }
     ],
     "prompt_number": 118
    },
    {
     "cell_type": "code",
     "collapsed": false,
     "input": [
      "synfit_sketch('abund', '[2,2,10.9]', '[2,2,11]', 0.02,\n",
      "              teff=20000, logg=4, wstart=4460, wend=4480, relative=1, noplot=True,\n",
      "              vmac_rt=5, vrot=16, observ='test_spectrum.dat')"
     ],
     "language": "python",
     "metadata": {},
     "outputs": [
      {
       "output_type": "stream",
       "stream": "stdout",
       "text": [
        "Best fit:\n",
        "abund = [2, 2, 10.96], chi^2 = 0.000000.\n"
       ]
      }
     ],
     "prompt_number": 188
    },
    {
     "cell_type": "code",
     "collapsed": false,
     "input": [
      "synfit_sketch('vrot', 10, 20, 2, 'vmac_rt', 0, 10, 5, 'teff', 19000, 22000, 1000,\n",
      "              'abund', '[2,2,10.9]', '[2,2,11]', 0.02,\n",
      "              logg=4, wstart=4460, wend=4480, relative=1, noplot=True,\n",
      "              observ='test_spectrum.dat')"
     ],
     "language": "python",
     "metadata": {},
     "outputs": [
      {
       "output_type": "stream",
       "stream": "stdout",
       "text": [
        "Best fit:\n",
        "teff = 20000.0, abund = [2, 2, 10.96], vrot = 16.0, vmac_rt = 5.0, chi^2 = 0.000000.\n"
       ]
      }
     ],
     "prompt_number": 184
    },
    {
     "cell_type": "markdown",
     "metadata": {},
     "source": [
      "It seems to be working. The $\\chi^2$ for the right parameters is zero."
     ]
    },
    {
     "cell_type": "code",
     "collapsed": false,
     "input": [
      "#Clean files created\n",
      "\n",
      "!rm xp.dat\n",
      "!rm yp.dat\n",
      "!rm x.dat\n",
      "!rm interpol_test.pro\n",
      "!rm test_spectrum.dat"
     ],
     "language": "python",
     "metadata": {},
     "outputs": []
    }
   ],
   "metadata": {}
  }
 ]
}