{
 "metadata": {
  "name": ""
 },
 "nbformat": 3,
 "nbformat_minor": 0,
 "worksheets": [
  {
   "cells": [
    {
     "cell_type": "heading",
     "level": 1,
     "metadata": {},
     "source": [
      "Synfit"
     ]
    },
    {
     "cell_type": "markdown",
     "metadata": {},
     "source": [
      "In this notebook I will experiment the possibility of implementing a generic `synfit` to `S4`. `Synfit` is a code developed by Dr. Ivan Hubeny that runs `synplot` on a loop minimize de $\\chi^2$ between the sythetic spectrum and the observed spectrum. At this time, `synfit` find the best fit for the following parameters: effective temperature (T$_{eff}$), gravity surface ($\\log g$), projected rotational velocity ($v\\sin i$) and scale.\n",
      "\n",
      "There is two problem that I wast to solve here:\n",
      "\n",
      "1. Degeneracy: This is a problem. At some times there are more than one set of parameters that visually matches the observed spectral line. So, what is the best sete of parameter? With $\\chi^2$ minimization we will have a one-t-one match.\n",
      "\n",
      "2. Time: When we do a fit visually we will have a match. But what if you improved your atmospherical or atomic model? We would have to fit the line again. With the methodology coded, we would have only to run it again."
     ]
    },
    {
     "cell_type": "markdown",
     "metadata": {},
     "source": [
      "I want that the user can choose any number of parameters for the loop. The user will have to set the following arguments: \n",
      "\n",
      "1. The parameter for the loop,\n",
      "2. The minimum value,\n",
      "3. The maximum value,\n",
      "4. And the step.\n",
      "\n",
      "And for that we will have to use `*args`, and break it:"
     ]
    },
    {
     "cell_type": "code",
     "collapsed": false,
     "input": [
      "import numpy as np\n",
      "\n",
      "def break_args(*args):\n",
      "    \"\"\"\n",
      "    Call signature::\n",
      "\n",
      "      args_test(*args, **kwargs)\n",
      "\n",
      "    Break *args* and return a dictionary with parameters as keys and \n",
      "    iterattor vctor as values. *args* is a variable length argument,\n",
      "    allowing for multiple sets of parameters, inferior limit, superior \n",
      "    limit and step. For example, to return a dictionary with parameter\n",
      "    *teff*, minimum value fo 15000 K, maximum value of 20000 K and \n",
      "    1000K as step::\n",
      "\n",
      "      break_args('teff', 15000, 20000, 1000)\n",
      "\n",
      "    An arbitrary number of *parameters*, *max_value*, *min_value* and \n",
      "    *step* groups can be specified::\n",
      "\n",
      "      break_args(param1, min_value1, max_value1, step1, param2, \n",
      "                 min_value2, max_value2)\n",
      "    \"\"\"\n",
      "    \n",
      "    dic = {}\n",
      "       \n",
      "    if len(args) < 4:\n",
      "        raise TypeError, 'It should be at least 4 input parameters.'\n",
      "    else:\n",
      "        for i in range(len(args)/4):\n",
      "            min_value = args[4*i+1]\n",
      "            max_value = args[4*i+2]\n",
      "            step = args[4*i+3]\n",
      "            n_values = (max_value - min_value)/step + 1\n",
      "            vector = np.linspace(min_value, max_value, n_values)\n",
      "            dic[args[4*i]] = vector\n",
      "            \n",
      "    return dic    \n",
      "\n",
      "    \n",
      "params = break_args('teff', 15000, 20000, 2500, 'vrot', 0, 1, 0.2)    \n",
      "params"
     ],
     "language": "python",
     "metadata": {},
     "outputs": [
      {
       "metadata": {},
       "output_type": "pyout",
       "prompt_number": 23,
       "text": [
        "{'teff': array([ 15000.,  17500.,  20000.]),\n",
        " 'vrot': array([ 0. ,  0.2,  0.4,  0.6,  0.8,  1. ])}"
       ]
      }
     ],
     "prompt_number": 23
    },
    {
     "cell_type": "markdown",
     "metadata": {},
     "source": [
      "Now that we have the paramaters and vectors for the iteraction we have to face another problem. Since the number of parameters is unknown, we cannot have a unknown number of `for` loops. One soulution would be to have just one `for` loop iterating in just one vector that contain all vectors."
     ]
    },
    {
     "cell_type": "code",
     "collapsed": false,
     "input": [
      "from itertools import product \n",
      "\n",
      "def iterator(*args):\n",
      "    \"\"\"\n",
      "    Create the iterator vector.\n",
      "    \n",
      "    \n",
      "    \"\"\"\n",
      "    \n",
      "    if len(args) == 1:\n",
      "        return list(*args)\n",
      "    else:\n",
      "        return list(product(*args))"
     ],
     "language": "python",
     "metadata": {},
     "outputs": [],
     "prompt_number": 57
    },
    {
     "cell_type": "markdown",
     "metadata": {},
     "source": [
      "With that, we can begin sketching a `synfit`."
     ]
    },
    {
     "cell_type": "code",
     "collapsed": false,
     "input": [
      "def synfit_sketch(*args):\n",
      "    \n",
      "    #Obtain the parameters and vectors for the loop.\n",
      "    params = break_args(*args)\n",
      "    \n",
      "    # Loop it!\n",
      "    for it in iterator(*params.values()):\n",
      "        print ', '.join([key+'='+str(val) for key, val in zip(params, it)])"
     ],
     "language": "python",
     "metadata": {},
     "outputs": [],
     "prompt_number": 55
    },
    {
     "cell_type": "code",
     "collapsed": false,
     "input": [
      "# An example\n",
      "synfit_sketch('teff', 15000, 20000, 2500, 'vrot', 0, 1, 0.2)\n"
     ],
     "language": "python",
     "metadata": {},
     "outputs": [
      {
       "output_type": "stream",
       "stream": "stdout",
       "text": [
        "teff=15000.0, vrot=0.0\n",
        "teff=15000.0, vrot=0.2\n",
        "teff=15000.0, vrot=0.4\n",
        "teff=15000.0, vrot=0.6\n",
        "teff=15000.0, vrot=0.8\n",
        "teff=15000.0, vrot=1.0\n",
        "teff=17500.0, vrot=0.0\n",
        "teff=17500.0, vrot=0.2\n",
        "teff=17500.0, vrot=0.4\n",
        "teff=17500.0, vrot=0.6\n",
        "teff=17500.0, vrot=0.8\n",
        "teff=17500.0, vrot=1.0\n",
        "teff=20000.0, vrot=0.0\n",
        "teff=20000.0, vrot=0.2\n",
        "teff=20000.0, vrot=0.4\n",
        "teff=20000.0, vrot=0.6\n",
        "teff=20000.0, vrot=0.8\n",
        "teff=20000.0, vrot=1.0\n"
       ]
      }
     ],
     "prompt_number": 56
    },
    {
     "cell_type": "code",
     "collapsed": false,
     "input": [],
     "language": "python",
     "metadata": {},
     "outputs": []
    }
   ],
   "metadata": {}
  }
 ]
}