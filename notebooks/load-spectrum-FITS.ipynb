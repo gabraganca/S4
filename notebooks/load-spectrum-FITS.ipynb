{
 "metadata": {
  "name": "load-spectrum-FITS"
 },
 "nbformat": 3,
 "nbformat_minor": 0,
 "worksheets": [
  {
   "cells": [
    {
     "cell_type": "heading",
     "level": 1,
     "metadata": {},
     "source": [
      "Loading FITS spectrum with python"
     ]
    },
    {
     "cell_type": "markdown",
     "metadata": {},
     "source": [
      "The purpose of this notebook is to stduy the viability of loading spectrum in FITS format using only python, i.e., do not using IRAF/pyRAF. The Astropy.io.fits package (formerly STSCI's pyfits) can be of help."
     ]
    },
    {
     "cell_type": "markdown",
     "metadata": {},
     "source": [
      "Let's load some basic packages."
     ]
    },
    {
     "cell_type": "code",
     "collapsed": false,
     "input": [
      "%pylab --inline\n",
      "from astropy.io import fits"
     ],
     "language": "python",
     "metadata": {},
     "outputs": [
      {
       "output_type": "stream",
       "stream": "stderr",
       "text": [
        "ERROR: Backend u'--inline' not supported"
       ]
      }
     ],
     "prompt_number": 28
    },
    {
     "cell_type": "markdown",
     "metadata": {},
     "source": [
      "There are two spectra example on this folder:"
     ]
    },
    {
     "cell_type": "code",
     "collapsed": false,
     "input": [
      "ls *fits"
     ],
     "language": "python",
     "metadata": {},
     "outputs": [
      {
       "output_type": "stream",
       "stream": "stdout",
       "text": [
        "HD74575_f09601_4200_4500_norm.fits  HD74575_f09601.fits\r\n"
       ]
      }
     ],
     "prompt_number": 29
    },
    {
     "cell_type": "markdown",
     "metadata": {},
     "source": [
      "One of them is the original file and the other is a spectrum that was cut and normalized by me. Let's start with the original one."
     ]
    },
    {
     "cell_type": "code",
     "collapsed": false,
     "input": [
      "origin_spec = fits.open('HD74575_f09601.fits')\n",
      "origin_spec.info()"
     ],
     "language": "python",
     "metadata": {},
     "outputs": [
      {
       "output_type": "stream",
       "stream": "stdout",
       "text": [
        "Filename: HD74575_f09601.fits\n",
        "No.    Name         Type      Cards   Dimensions   Format\n",
        "0    f09601      PrimaryHDU     384   (189652,)    float32   \n"
       ]
      }
     ],
     "prompt_number": 30
    },
    {
     "cell_type": "markdown",
     "metadata": {},
     "source": [
      "Let's store the flux of this spectrum:"
     ]
    },
    {
     "cell_type": "code",
     "collapsed": false,
     "input": [
      "origin_flux = origin_spec[0].data\n",
      "print origin_flux"
     ],
     "language": "python",
     "metadata": {},
     "outputs": [
      {
       "output_type": "stream",
       "stream": "stdout",
       "text": [
        "[ 0.          0.          0.         ...,  0.82952058  0.82075608\n",
        "  0.81109166]\n"
       ]
      }
     ],
     "prompt_number": 31
    },
    {
     "cell_type": "markdown",
     "metadata": {},
     "source": [
      "We have the flux but not the wavelength. It seems that the astropy.io.fits package do not load the wavelengths. I guess we will have to improve with some data avialable on the header. "
     ]
    },
    {
     "cell_type": "code",
     "collapsed": false,
     "input": [
      "origin_spec[0].header[0:11]"
     ],
     "language": "python",
     "metadata": {},
     "outputs": [
      {
       "output_type": "pyout",
       "prompt_number": 32,
       "text": [
        "SIMPLE  =                    T / Standard FITS format: NOST 100-2.0             \n",
        "BITPIX  =                  -32 / No. of bits per pixel                          \n",
        "NAXIS   =                    1 / No. of axes in image                           \n",
        "NAXIS1  =               189652 / No. of pixels                                  \n",
        "EXTEND  =                    T / FITS extension may be present                  \n",
        "BLOCKED =                    T / FITS file may be blocked                       \n",
        "COMMENT NOST 100-2.0: Hanisch,R. et al. 2001, Astron. & Astrophys. 376, 559     \n",
        "                                                                                \n",
        "CRPIX1  =                 -49. / Reference pixel                                \n",
        "CRVAL1  =              3526.23 / Coordinate at reference pixel                  \n",
        "CDELT1  =                 0.03 / Coord. incr. per pixel (original value)        "
       ]
      }
     ],
     "prompt_number": 32
    },
    {
     "cell_type": "markdown",
     "metadata": {},
     "source": [
      "We need the last three values:"
     ]
    },
    {
     "cell_type": "code",
     "collapsed": false,
     "input": [
      "ref_pixel = origin_spec[0].header['CRPIX1']\n",
      "coord_ref_pixel = origin_spec[0].header['CRVAL1']\n",
      "wave_pixel = origin_spec[0].header['CDELT1']"
     ],
     "language": "python",
     "metadata": {},
     "outputs": [],
     "prompt_number": 33
    },
    {
     "cell_type": "markdown",
     "metadata": {},
     "source": [
      "We can write a fuction to obtain the starting wavelength:"
     ]
    },
    {
     "cell_type": "code",
     "collapsed": false,
     "input": [
      "def get_wstart(ref, wave_ref, wave_per_pixel):\n",
      "    \"\"\"\n",
      "    Obtain the starting wavelength of a spectrum.\n",
      "\n",
      "    Parameters\n",
      "    ----------\n",
      "\n",
      "    ref: int,\n",
      "        Reference pixel.\n",
      "    \n",
      "    wave_ref: float,\n",
      "        Coordinate at reference pixel.\n",
      "\n",
      "    wave_per_pixel: float,\n",
      "        Coordinate increase per pixel.\n",
      "\n",
      "    Returns\n",
      "    -------\n",
      "\n",
      "    wstart: float,\n",
      "        Starting wavelength.\n",
      "    \"\"\"\n",
      "    \n",
      "    return wave_ref - ((ref-1) * wave_per_pixel)"
     ],
     "language": "python",
     "metadata": {},
     "outputs": [],
     "prompt_number": 34
    },
    {
     "cell_type": "markdown",
     "metadata": {},
     "source": [
      "We can then call the function:"
     ]
    },
    {
     "cell_type": "code",
     "collapsed": false,
     "input": [
      "wstart = get_wstart(ref_pixel, coord_ref_pixel, wave_pixel)\n",
      "print 'Starting wavelength = {}'.format(wstart)"
     ],
     "language": "python",
     "metadata": {},
     "outputs": [
      {
       "output_type": "stream",
       "stream": "stdout",
       "text": [
        "Starting wavelength = 3527.73\n"
       ]
      }
     ],
     "prompt_number": 35
    },
    {
     "cell_type": "markdown",
     "metadata": {},
     "source": [
      "Let's define a function to write an array of wavelengths for our flux array."
     ]
    },
    {
     "cell_type": "code",
     "collapsed": false,
     "input": [],
     "language": "python",
     "metadata": {},
     "outputs": [],
     "prompt_number": 35
    },
    {
     "cell_type": "code",
     "collapsed": false,
     "input": [],
     "language": "python",
     "metadata": {},
     "outputs": [],
     "prompt_number": 35
    },
    {
     "cell_type": "code",
     "collapsed": false,
     "input": [],
     "language": "python",
     "metadata": {},
     "outputs": [],
     "prompt_number": 35
    },
    {
     "cell_type": "markdown",
     "metadata": {},
     "source": [
      "We can do the same procedure for the cut and normalized spectra:"
     ]
    },
    {
     "cell_type": "code",
     "collapsed": false,
     "input": [
      "cut_spec = fits.open('HD74575_f09601_4200_4500_norm.fits')\n",
      "cut_data = cut_spec[0].data\n",
      "cut_ref_pixel = cut_spec[0].header['CRPIX1']\n",
      "cut_coord_ref_pixel = cut_spec[0].header['CRVAL1']\n",
      "cut_wave_pixel = cut_spec[0].header['CDELT1']\n",
      "cut_wstart = get_wstart(cut_ref_pixel, cut_coord_ref_pixel, cut_wave_pixel)\n",
      "print 'Starting wavelength = {}'.format(cut_wstart)"
     ],
     "language": "python",
     "metadata": {},
     "outputs": [
      {
       "output_type": "stream",
       "stream": "stdout",
       "text": [
        "Starting wavelength = 4200.0\n"
       ]
      }
     ],
     "prompt_number": 37
    },
    {
     "cell_type": "code",
     "collapsed": false,
     "input": [],
     "language": "python",
     "metadata": {},
     "outputs": [],
     "prompt_number": 36
    }
   ],
   "metadata": {}
  }
 ]
}