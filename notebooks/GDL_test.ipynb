{
 "metadata": {
  "name": "GDL_test"
 },
 "nbformat": 3,
 "nbformat_minor": 0,
 "worksheets": [
  {
   "cells": [
    {
     "cell_type": "heading",
     "level": 1,
     "metadata": {},
     "source": [
      "GNU Data Langaue test"
     ]
    },
    {
     "cell_type": "markdown",
     "metadata": {},
     "source": [
      "This notebook serve to explore the possibility of running synspec on the GNU Data Language (GDL) intead of the ITT's IDL.\n",
      "\n",
      "GDL is a free and open-source IDL. The project website is loaded below:"
     ]
    },
    {
     "cell_type": "code",
     "collapsed": false,
     "input": [
      "from IPython.core.display import HTML\n",
      "HTML(\"<iframe src=http://gnudatalanguage.sourceforge.net/ width=800 height=350></iframe>\")"
     ],
     "language": "python",
     "metadata": {},
     "outputs": [
      {
       "html": [
        "<iframe src=http://gnudatalanguage.sourceforge.net/ width=800 height=350></iframe>"
       ],
       "output_type": "pyout",
       "prompt_number": 1,
       "text": [
        "<IPython.core.display.HTML at 0x3443490>"
       ]
      }
     ],
     "prompt_number": 1
    },
    {
     "cell_type": "markdown",
     "metadata": {},
     "source": [
      "The actual code implemented on S4 that allows to run IDL is shown below:"
     ]
    },
    {
     "cell_type": "code",
     "collapsed": false,
     "input": [
      "import s4\n",
      "import inspect\n",
      "print inspect.getsource(s4.idlwrapper.run_idl)"
     ],
     "language": "python",
     "metadata": {},
     "outputs": [
      {
       "output_type": "stream",
       "stream": "stdout",
       "text": [
        "def run_idl(inp, do_log = False):\n",
        "    \"\"\"Run idl\"\"\"\n",
        "    \n",
        "    if do_log:\n",
        "        with open('idl.log', 'w') as log:\n",
        "            idl = Popen(['nice', '-n0', 'idl'], stdin = PIPE, \\\n",
        "                           stdout = log, stderr = log)\n",
        "            idl.communicate(inp)\n",
        "                           \n",
        "    else:\n",
        "        print '########### IDL ##################'\n",
        "        idl = Popen(['nice', '-n0', 'idl'], stdin = PIPE)\n",
        "        idl.communicate(inp)\n",
        "        print '######## Quitting IDL ############'    \n",
        "    \n",
        "    \"\"\"\n",
        "    #An alternative way\n",
        "    \n",
        "    import pidly\n",
        "    \n",
        "    idl = pidly.IDL()\n",
        "    \n",
        "    if do_log:        \n",
        "        with open('idl.log', 'w') as log:\n",
        "            spam = idl(inp, print_output = False, ret = True)\n",
        "            log.write(spam)\n",
        "    else:\n",
        "        print '########### IDL ##################'\n",
        "        idl(inp)\n",
        "        print '######## Quitting IDL ############'\n",
        "        \n",
        "    idl.close()    \n",
        "    \n",
        "    \"\"\"\n",
        "\n"
       ]
      }
     ],
     "prompt_number": 2
    },
    {
     "cell_type": "markdown",
     "metadata": {},
     "source": [
      "Let's try it. For some reason, the IDL output is not show on the terminal, so I will save on a log file and then use `cat` to show it."
     ]
    },
    {
     "cell_type": "code",
     "collapsed": false,
     "input": [
      "s4.idlwrapper.run_idl('print,2+2', do_log = True)\n",
      "!cat idl.log"
     ],
     "language": "python",
     "metadata": {},
     "outputs": [
      {
       "output_type": "stream",
       "stream": "stdout",
       "text": [
        "IDL Version 7.1 (linux x86_64 m64). (c) 2009, ITT Visual Information Solutions\r\n",
        "Installation number: 20111111.\r\n",
        "Licensed for use by: TEAM TBE\r\n",
        "\r\n",
        "       4\r\n"
       ]
      }
     ],
     "prompt_number": 3
    },
    {
     "cell_type": "markdown",
     "metadata": {},
     "source": [
      "Hong Xu wrote on his [blog](http://www.hong.me/blog/2012/04/13/run-idl-code-from-python-without-using-pyidl-slash-pidly/) how to run IDL from python on a easy way. He uses the `-e` option of IDL to run IDL commands:"
     ]
    },
    {
     "cell_type": "code",
     "collapsed": false,
     "input": [
      "import subprocess\n",
      "\n",
      "subp = subprocess.Popen(\"idl -quiet -e 'print, \\\"Hello, Python!\\\"'\",\n",
      "        stderr = subprocess.PIPE, stdout = subprocess.PIPE, shell = True)\n",
      "\n",
      "(idl_stdout, _) = subp.communicate()\n",
      "\n",
      "print(idl_stdout)   # for python 2.4, use \"print idl_stdout\" instead\n"
     ],
     "language": "python",
     "metadata": {},
     "outputs": [
      {
       "output_type": "stream",
       "stream": "stdout",
       "text": [
        "Hello, Python!\n",
        "\n"
       ]
      }
     ],
     "prompt_number": 4
    },
    {
     "cell_type": "markdown",
     "metadata": {},
     "source": [
      "Would it work for GDL?"
     ]
    },
    {
     "cell_type": "code",
     "collapsed": false,
     "input": [
      "subp = subprocess.Popen(\"gdl -quiet -e 'print, \\\"Hello, Python!\\\"'\",\n",
      "        stderr = subprocess.PIPE, stdout = subprocess.PIPE, shell = True)\n",
      "\n",
      "(gdl_stdout, _) = subp.communicate()\n",
      "\n",
      "print(gdl_stdout) "
     ],
     "language": "python",
     "metadata": {},
     "outputs": [
      {
       "output_type": "stream",
       "stream": "stdout",
       "text": [
        "Hello, Python!\n",
        "\n"
       ]
      }
     ],
     "prompt_number": 5
    },
    {
     "cell_type": "markdown",
     "metadata": {},
     "source": [
      "Yes, it worked nice. Let's wrap it on a function:"
     ]
    },
    {
     "cell_type": "code",
     "collapsed": false,
     "input": [
      "def run_command(cmd):\n",
      "    subp = subprocess.Popen(cmd,\n",
      "            stderr = subprocess.PIPE, stdout = subprocess.PIPE, shell = True)\n",
      "    \n",
      "    (stdout, _) = subp.communicate()\n",
      "    \n",
      "    print(stdout)     "
     ],
     "language": "python",
     "metadata": {},
     "outputs": [],
     "prompt_number": 6
    },
    {
     "cell_type": "markdown",
     "metadata": {},
     "source": [
      "Should we try with `synplot`?"
     ]
    },
    {
     "cell_type": "code",
     "collapsed": false,
     "input": [
      "import os\n",
      "\n",
      "# Synplot Path\n",
      "spath = os.getenv('HOME') + '/.s4/synthesis/synplot/'\n",
      "\n",
      "# Synplot command; KISS style\n",
      "cmd = \"CD, '\" + spath + \"' & synplot, teff=20000, logg=4, wstart=4060, wend=4080, noplot=1\"\n",
      "\n",
      "s4.idlwrapper.run_idl(cmd, do_log=True)\n",
      "!cat idl.log"
     ],
     "language": "python",
     "metadata": {},
     "outputs": [
      {
       "output_type": "stream",
       "stream": "stdout",
       "text": [
        "IDL Version 7.1 (linux x86_64 m64). (c) 2009, ITT Visual Information Solutions\r\n",
        "Installation number: 20111111.\r\n",
        "Licensed for use by: TEAM TBE\r\n",
        "\r\n",
        "% Compiled module: SYNPLOT.\r\n",
        "grid = ../bstar2006/BG   atdata = ../atdata\r\n",
        "% Compiled module: INTRPMOD.\r\n",
        "total equivalent width:       787.200  milliangstrom\r\n"
       ]
      }
     ],
     "prompt_number": 7
    },
    {
     "cell_type": "markdown",
     "metadata": {},
     "source": [
      "Runs nicely with the method already implemented in `S4`. Let's try the one by Hong Xu."
     ]
    },
    {
     "cell_type": "code",
     "collapsed": false,
     "input": [
      "run_command('idl -quiet -e \"'+cmd+'\"')"
     ],
     "language": "python",
     "metadata": {},
     "outputs": [
      {
       "output_type": "stream",
       "stream": "stdout",
       "text": [
        "grid = ../bstar2006/BG   atdata = ../atdata\n",
        "total equivalent width:       787.200  milliangstrom\n",
        "\n"
       ]
      }
     ],
     "prompt_number": 8
    },
    {
     "cell_type": "markdown",
     "metadata": {},
     "source": [
      "Also works. What about GDL?"
     ]
    },
    {
     "cell_type": "code",
     "collapsed": false,
     "input": [
      "run_command('gdl -quiet -e \"'+cmd+'\"')"
     ],
     "language": "python",
     "metadata": {},
     "outputs": [
      {
       "output_type": "stream",
       "stream": "stdout",
       "text": [
        "% Compiled module: SYNPLOT.\n",
        "grid = ../bstar2006/BG   atdata = ../atdata\n",
        "% Compiled module: INTRPMOD.\n",
        "total equivalent width:           nan  milliangstrom\n",
        "\n"
       ]
      }
     ],
     "prompt_number": 9
    },
    {
     "cell_type": "markdown",
     "metadata": {},
     "source": [
      "It is not calculating the equivalent width. Perhaps it is not working. We can check."
     ]
    },
    {
     "cell_type": "markdown",
     "metadata": {},
     "source": [
      "We first delete the file with the calculate spectrum. Then we run GDL and check if the calculated spectrum is there."
     ]
    },
    {
     "cell_type": "code",
     "collapsed": false,
     "input": [
      "calc_spec = spath+'fort.11'\n",
      "os.remove(calc_spec)\n",
      "run_command('gdl -quiet -e \"'+cmd+'\"')\n",
      "\n",
      "print '\\n\\nThe calculated spectrum exists?',os.path.isfile(calc_spec)"
     ],
     "language": "python",
     "metadata": {},
     "outputs": [
      {
       "output_type": "stream",
       "stream": "stdout",
       "text": [
        "% Compiled module: SYNPLOT.\n",
        "grid = ../bstar2006/BG   atdata = ../atdata\n",
        "% Compiled module: INTRPMOD.\n",
        "total equivalent width:           nan  milliangstrom\n",
        "\n",
        "\n",
        "\n",
        "The calculated spectrum exists? True\n"
       ]
      }
     ],
     "prompt_number": 10
    },
    {
     "cell_type": "markdown",
     "metadata": {},
     "source": [
      "We can also load and print it and verify if is output spectrum is really what we wanted."
     ]
    },
    {
     "cell_type": "code",
     "collapsed": false,
     "input": [
      "%pylab inline"
     ],
     "language": "python",
     "metadata": {},
     "outputs": [
      {
       "output_type": "stream",
       "stream": "stdout",
       "text": [
        "\n",
        "Welcome to pylab, a matplotlib-based Python environment [backend: module://IPython.zmq.pylab.backend_inline].\n",
        "For more information, type 'help(pylab)'.\n"
       ]
      }
     ],
     "prompt_number": 11
    },
    {
     "cell_type": "code",
     "collapsed": false,
     "input": [
      "spec = np.loadtxt(calc_spec)\n",
      "print spec"
     ],
     "language": "python",
     "metadata": {},
     "outputs": [
      {
       "output_type": "stream",
       "stream": "stdout",
       "text": [
        "[[ 4060.          nan]\n",
        " [ 4060.01        nan]\n",
        " [ 4060.02        nan]\n",
        " ..., \n",
        " [ 4079.978       nan]\n",
        " [ 4079.988       nan]\n",
        " [ 4079.998       nan]]\n"
       ]
      }
     ],
     "prompt_number": 12
    },
    {
     "cell_type": "markdown",
     "metadata": {},
     "source": [
      "It did not worked. We got a lot of NaN as values for the flux."
     ]
    },
    {
     "cell_type": "markdown",
     "metadata": {},
     "source": [
      "Could be a problem with `synplot`? We can try with my own build."
     ]
    },
    {
     "cell_type": "code",
     "collapsed": false,
     "input": [
      "# Synplot Path\n",
      "spath = os.getenv('HOME') + '/synplot/synplot/'\n",
      "\n",
      "# Synplot command; KISS style\n",
      "cmd = \"CD, '\" + spath + \"' & synplot, teff=20000, logg=4, wstart=4060, wend=4080\"\n",
      "\n",
      "run_command('gdl -quiet -e \"'+cmd+'\"')\n"
     ],
     "language": "python",
     "metadata": {},
     "outputs": [
      {
       "output_type": "stream",
       "stream": "stdout",
       "text": [
        "% Compiled module: SYNPLOT.\n",
        "grid = ../bstar/KCmod/BGns   atdata = ../atdata\n",
        "% Compiled module: INTRPMOD.\n",
        "total equivalent width:       1163.70  milliangstrom\n",
        "\n"
       ]
      }
     ],
     "prompt_number": 13
    },
    {
     "cell_type": "markdown",
     "metadata": {},
     "source": [
      "That's awkward... It seems to have worked. Is it the spectrum any good?"
     ]
    },
    {
     "cell_type": "code",
     "collapsed": false,
     "input": [
      "spec_gdl = np.loadtxt(spath+'fort.11')\n",
      "print spec_gdl              "
     ],
     "language": "python",
     "metadata": {},
     "outputs": [
      {
       "output_type": "stream",
       "stream": "stdout",
       "text": [
        "[[  4.06000000e+03   4.60400000e+07]\n",
        " [  4.06000400e+03   4.60300000e+07]\n",
        " [  4.06000800e+03   4.60300000e+07]\n",
        " ..., \n",
        " [  4.07997700e+03   4.47300000e+07]\n",
        " [  4.07998600e+03   4.47000000e+07]\n",
        " [  4.07999600e+03   4.46500000e+07]]\n"
       ]
      }
     ],
     "prompt_number": 14
    },
    {
     "cell_type": "markdown",
     "metadata": {},
     "source": [
      "Yeah! Worked! So the `synplot` version that is installed with `S4` do not support GDL. I should write this on the README.\n",
      "\n",
      "How the plot will look?"
     ]
    },
    {
     "cell_type": "code",
     "collapsed": false,
     "input": [
      "plt.plot(spec_gdl[:,0], spec_gdl[:,1])"
     ],
     "language": "python",
     "metadata": {},
     "outputs": [
      {
       "output_type": "pyout",
       "prompt_number": 15,
       "text": [
        "[<matplotlib.lines.Line2D at 0x486a250>]"
       ]
      }
     ],
     "prompt_number": 15
    },
    {
     "cell_type": "code",
     "collapsed": false,
     "input": [],
     "language": "python",
     "metadata": {},
     "outputs": [],
     "prompt_number": 15
    }
   ],
   "metadata": {}
  }
 ]
}