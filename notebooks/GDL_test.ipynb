{
 "metadata": {
  "name": "GDL_test"
 },
 "nbformat": 3,
 "nbformat_minor": 0,
 "worksheets": [
  {
   "cells": [
    {
     "cell_type": "heading",
     "level": 1,
     "metadata": {},
     "source": [
      "GNU Data Langaue test"
     ]
    },
    {
     "cell_type": "markdown",
     "metadata": {},
     "source": [
      "This notebook serve to explore the possibility of running synspec on the GNU Data Language (GDL) intead of the ITT's IDL.\n",
      "\n",
      "GDL is a free and open-source IDL. The project website is loaded below:"
     ]
    },
    {
     "cell_type": "code",
     "collapsed": false,
     "input": [
      "from IPython.core.display import HTML\n",
      "HTML(\"<iframe src=http://gnudatalanguage.sourceforge.net/ width=800 height=350></iframe>\")"
     ],
     "language": "python",
     "metadata": {},
     "outputs": [
      {
       "html": [
        "<iframe src=http://gnudatalanguage.sourceforge.net/ width=800 height=350></iframe>"
       ],
       "output_type": "pyout",
       "prompt_number": 1,
       "text": [
        "<IPython.core.display.HTML at 0x9a79c2c>"
       ]
      }
     ],
     "prompt_number": 1
    },
    {
     "cell_type": "markdown",
     "metadata": {},
     "source": [
      "The actual code implemented on S4 that allows to run IDL is shown below:"
     ]
    },
    {
     "cell_type": "code",
     "collapsed": false,
     "input": [
      "import s4\n",
      "import inspect\n",
      "print inspect.getsource(s4.idlwrapper.run_idl)"
     ],
     "language": "python",
     "metadata": {},
     "outputs": [
      {
       "output_type": "stream",
       "stream": "stdout",
       "text": [
        "def run_idl(inp, do_log = False):\n",
        "    \"\"\"Run idl\"\"\"\n",
        "    \n",
        "    if do_log:\n",
        "        with open('idl.log', 'w') as log:\n",
        "            idl = Popen(['nice', '-n0', 'idl'], stdin = PIPE, \\\n",
        "                           stdout = log, stderr = log)\n",
        "            idl.communicate(inp)\n",
        "                           \n",
        "    else:\n",
        "        print '########### IDL ##################'\n",
        "        idl = Popen(['nice', '-n0', 'idl'], stdin = PIPE)\n",
        "        idl.communicate(inp)\n",
        "        print '######## Quitting IDL ############'    \n",
        "    \n",
        "    \"\"\"\n",
        "    #An alternative way\n",
        "    \n",
        "    import pidly\n",
        "    \n",
        "    idl = pidly.IDL()\n",
        "    \n",
        "    if do_log:        \n",
        "        with open('idl.log', 'w') as log:\n",
        "            spam = idl(inp, print_output = False, ret = True)\n",
        "            log.write(spam)\n",
        "    else:\n",
        "        print '########### IDL ##################'\n",
        "        idl(inp)\n",
        "        print '######## Quitting IDL ############'\n",
        "        \n",
        "    idl.close()    \n",
        "    \n",
        "    \"\"\"\n",
        "\n"
       ]
      }
     ],
     "prompt_number": 2
    },
    {
     "cell_type": "markdown",
     "metadata": {},
     "source": [
      "Let's try it. For some reason, the IDL output is not show on the terminal, so I will save on a log file and then use `cat` to show it."
     ]
    },
    {
     "cell_type": "code",
     "collapsed": false,
     "input": [
      "s4.idlwrapper.run_idl('print,2+2', do_log = True)\n",
      "!cat idl.log"
     ],
     "language": "python",
     "metadata": {},
     "outputs": [
      {
       "output_type": "stream",
       "stream": "stdout",
       "text": [
        "IDL Version 7.1 (linux x86 m32). (c) 2009, ITT Visual Information Solutions\r\n",
        "Installation number: 20111111.\r\n",
        "Licensed for use by: TEAM TBE\r\n",
        "\r\n",
        "       4\r\n"
       ]
      }
     ],
     "prompt_number": 3
    },
    {
     "cell_type": "markdown",
     "metadata": {},
     "source": [
      "Hong Xu wrote on his [blog](http://www.hong.me/blog/2012/04/13/run-idl-code-from-python-without-using-pyidl-slash-pidly/) how to run IDL from python on a easy way. He uses the `-e` option of IDL to run IDL commands:"
     ]
    },
    {
     "cell_type": "code",
     "collapsed": false,
     "input": [
      "import subprocess\n",
      "\n",
      "subp = subprocess.Popen(\"idl -quiet -e 'print, \\\"Hello, Python!\\\"'\",\n",
      "        stderr = subprocess.PIPE, stdout = subprocess.PIPE, shell = True)\n",
      "\n",
      "(idl_stdout, _) = subp.communicate()\n",
      "\n",
      "print(idl_stdout)   # for python 2.4, use \"print idl_stdout\" instead\n"
     ],
     "language": "python",
     "metadata": {},
     "outputs": [
      {
       "output_type": "stream",
       "stream": "stdout",
       "text": [
        "Hello, Python!\n",
        "\n"
       ]
      }
     ],
     "prompt_number": 12
    },
    {
     "cell_type": "markdown",
     "metadata": {},
     "source": [
      "Would it work for GDL?"
     ]
    },
    {
     "cell_type": "code",
     "collapsed": false,
     "input": [
      "subp = subprocess.Popen(\"gdl -quiet -e 'print, \\\"Hello, Python!\\\"'\",\n",
      "        stderr = subprocess.PIPE, stdout = subprocess.PIPE, shell = True)\n",
      "\n",
      "(gdl_stdout, _) = subp.communicate()\n",
      "\n",
      "print(gdl_stdout) "
     ],
     "language": "python",
     "metadata": {},
     "outputs": [
      {
       "output_type": "stream",
       "stream": "stdout",
       "text": [
        "Hello, Python!\n",
        "\n"
       ]
      }
     ],
     "prompt_number": 11
    },
    {
     "cell_type": "markdown",
     "metadata": {},
     "source": [
      "Yes, it worked nice. And if we have an IDL script?\n",
      "\n",
      "Let's first create a script."
     ]
    },
    {
     "cell_type": "code",
     "collapsed": false,
     "input": [
      "!echo \"print, 'I am a script'\\nEND\" > test_script.pro\n",
      "!cat test_script.pro"
     ],
     "language": "python",
     "metadata": {},
     "outputs": [
      {
       "output_type": "stream",
       "stream": "stdout",
       "text": [
        "print, 'I am a script'\r\n",
        "END\r\n"
       ]
      }
     ],
     "prompt_number": 41
    },
    {
     "cell_type": "code",
     "collapsed": false,
     "input": [
      "subp = subprocess.Popen(\"idl -quiet -e '.run test_script.pro'\",\n",
      "        stderr = subprocess.PIPE, stdout = subprocess.PIPE, shell = True)\n",
      "\n",
      "(idl_stdout, _) = subp.communicate()\n",
      "\n",
      "print(idl_stdout)"
     ],
     "language": "python",
     "metadata": {},
     "outputs": [
      {
       "output_type": "stream",
       "stream": "stdout",
       "text": [
        "I am a script\n"
       ]
      },
      {
       "output_type": "stream",
       "stream": "stdout",
       "text": [
        "\n"
       ]
      }
     ],
     "prompt_number": 42
    },
    {
     "cell_type": "markdown",
     "metadata": {},
     "source": [
      "Nice! It worked on IDL. What about GDL?"
     ]
    },
    {
     "cell_type": "code",
     "collapsed": false,
     "input": [
      "subp = subprocess.Popen(\"gdl -quiet -e '.run test_script.pro'\",\n",
      "        stderr = subprocess.PIPE, stdout = subprocess.PIPE, shell = True)\n",
      "\n",
      "(gdl_stdout, _) = subp.communicate()\n",
      "\n",
      "print(gdl_stdout)"
     ],
     "language": "python",
     "metadata": {},
     "outputs": [
      {
       "output_type": "stream",
       "stream": "stdout",
       "text": [
        "% Compiled module: $MAIN$.\n",
        "\n"
       ]
      }
     ],
     "prompt_number": 43
    },
    {
     "cell_type": "code",
     "collapsed": false,
     "input": [],
     "language": "python",
     "metadata": {},
     "outputs": []
    }
   ],
   "metadata": {}
  }
 ]
}